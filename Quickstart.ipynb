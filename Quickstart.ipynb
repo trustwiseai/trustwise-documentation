{
 "cells": [
  {
   "cell_type": "markdown",
   "metadata": {},
   "source": [
    "# Trustwise Safety Plugin Starter Tutorial 🦉\n",
    "In this starter example, we will show how to log and monitor LLM evaluation metrics using Trustwise Safety Plugin."
   ]
  },
  {
   "cell_type": "markdown",
   "metadata": {},
   "source": [
    "## What is Trustwise Safety Plugin?\n",
    "\n",
    "Trustwise Safety Plugin is a plugin designed to help you evaluate your Large Language Models (LLMs) RAG pipelines. RAG pipelines can be built using various tools like LlamaIndex, LangChain etc. In this example, we will show how to use this plugin with LlamaIndex."
   ]
  },
  {
   "cell_type": "markdown",
   "metadata": {},
   "source": [
    "## Install Trustwise"
   ]
  },
  {
   "cell_type": "code",
   "execution_count": null,
   "metadata": {},
   "outputs": [],
   "source": [
    "!pip install trustwise"
   ]
  },
  {
   "cell_type": "markdown",
   "metadata": {},
   "source": [
    "## Prerequisites\n",
    "To use Safety Plugin, you should already be familiar with the basics of the LlamaIndex including loading documents, parsing them into nodes, constructing an index, and querying the index to get responses."
   ]
  },
  {
   "cell_type": "markdown",
   "metadata": {},
   "source": [
    "## Setup your OpenAI API key"
   ]
  },
  {
   "cell_type": "code",
   "execution_count": null,
   "metadata": {},
   "outputs": [],
   "source": [
    "import os\n",
    "os.environ[\"OPENAI_API_KEY\"] = 'OPENAI_API_KEY'"
   ]
  },
  {
   "cell_type": "markdown",
   "metadata": {},
   "source": [
    "## Configure the Callback Handler for Trustwise 🦉\n",
    "\n",
    "Generate Trustwise API key by going to this [link](http://api.trustwise.ai:8080/github-login)"
   ]
  },
  {
   "cell_type": "code",
   "execution_count": null,
   "metadata": {},
   "outputs": [],
   "source": [
    "from trustwise.callback import TWCallbackHandler\n",
    "\n",
    "# Initialize Trustwise CallbackHandler\n",
    "tw_callback = TWCallbackHandler()\n",
    "\n",
    "# Enter Trustwise API Key\n",
    "tw_api_key = 'TRUSTWISE_API_KEY'\n",
    "\n",
    "# Set the API key using the set_api_key method\n",
    "tw_callback.set_api_key(tw_api_key)"
   ]
  },
  {
   "cell_type": "code",
   "execution_count": null,
   "metadata": {},
   "outputs": [],
   "source": [
    "# Necessary LlamaIndex imports\n",
    "from llama_index.callbacks import CallbackManager, LlamaDebugHandler\n",
    "from llama_index.llms import OpenAI\n",
    "from llama_index import VectorStoreIndex, ServiceContext, SimpleDirectoryReader"
   ]
  },
  {
   "cell_type": "code",
   "execution_count": null,
   "metadata": {},
   "outputs": [],
   "source": [
    "# Initialize LlamaDebugHandler object\n",
    "llama_debug = LlamaDebugHandler(print_trace_on_end=True)\n",
    "\n",
    "# Include Trustwise CallbackHandler in the LlamaIndex callback manager\n",
    "tw_callback_manager = CallbackManager([llama_debug, tw_callback])\n",
    "\n",
    "# Initialize your LLM\n",
    "# You can use any LLM of your choice\n",
    "gpt4_llm = OpenAI(model=\"gpt-4\", temperature=0)\n",
    "\n",
    "# Default service context from LlamaIndex\n",
    "service_context = ServiceContext.from_defaults(\n",
    "    callback_manager=tw_callback_manager, llm=gpt4_llm\n",
    ")"
   ]
  },
  {
   "cell_type": "markdown",
   "metadata": {},
   "source": [
    "## Parse documents into an Index\n",
    "We have provided a `data` directory with sample PDF documents, feel free to change the code below to include your own documents and directories."
   ]
  },
  {
   "cell_type": "code",
   "execution_count": null,
   "metadata": {},
   "outputs": [],
   "source": [
    "# Load your documents in a directory called `data`\n",
    "documents = SimpleDirectoryReader('data').load_data() \n",
    "\n",
    "vec_index = VectorStoreIndex.from_documents(documents, service_context=service_context)"
   ]
  },
  {
   "cell_type": "markdown",
   "metadata": {},
   "source": [
    "## Sample Query and Responses"
   ]
  },
  {
   "cell_type": "code",
   "execution_count": null,
   "metadata": {},
   "outputs": [],
   "source": [
    "query_engine = vec_index.as_query_engine()\n",
    "\n",
    "# Change the query below\n",
    "query = \"What is VTE?\"\n",
    "\n",
    "response = query_engine.query(query)\n",
    "print(response)"
   ]
  },
  {
   "cell_type": "markdown",
   "metadata": {},
   "source": [
    "### Observe and evaluate using Trustwise 🦉"
   ]
  },
  {
   "cell_type": "code",
   "execution_count": null,
   "metadata": {},
   "outputs": [],
   "source": [
    "from trustwise.functions import Observability\n",
    "\n",
    "observe = Observability()\n",
    "\n",
    "observe.set_api_key(tw_api_key)\n",
    "\n",
    "results = observe.evaluate(query, response)\n",
    "results"
   ]
  }
 ],
 "metadata": {
  "kernelspec": {
   "display_name": "venv",
   "language": "python",
   "name": "python3"
  },
  "language_info": {
   "codemirror_mode": {
    "name": "ipython",
    "version": 3
   },
   "file_extension": ".py",
   "mimetype": "text/x-python",
   "name": "python",
   "nbconvert_exporter": "python",
   "pygments_lexer": "ipython3",
   "version": "3.9.10"
  },
  "orig_nbformat": 4
 },
 "nbformat": 4,
 "nbformat_minor": 2
}
